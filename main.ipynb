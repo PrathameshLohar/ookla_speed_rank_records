{
 "cells": [
  {
   "cell_type": "code",
   "execution_count": 1,
   "metadata": {},
   "outputs": [],
   "source": [
    "import requests\n",
    "from bs4 import BeautifulSoup \n",
    "import pandas as pd"
   ]
  },
  {
   "cell_type": "code",
   "execution_count": 4,
   "metadata": {},
   "outputs": [],
   "source": [
    "x = requests.get('https://www.speedtest.net/global-index')\n",
    "html_content = x.content\n",
    "htmlParse = BeautifulSoup(html_content, 'html.parser')\n"
   ]
  },
  {
   "cell_type": "code",
   "execution_count": 6,
   "metadata": {},
   "outputs": [
    {
     "name": "stdout",
     "output_type": "stream",
     "text": [
      "[<div class=\"headline\">\n",
      "<a aria-label=\"Currently viewing mobile speeds\" data-tab-target=\"#column-mobile\" href=\"#mobile\"><svg class=\"svg-icon\"><use xlink:href=\"#icon-wifi\"></use></svg> Mobile</a>\n",
      "</div>, <div class=\"headline\">\n",
      "<a aria-label=\"Currently viewing fixed speeds\" data-tab-target=\"#column-fixed\" href=\"#fixed\"><svg class=\"svg-icon\"><use xlink:href=\"#icon-signal\"></use></svg> Fixed Broadband</a>\n",
      "</div>, <div class=\"headline\">\n",
      "<svg class=\"svg-icon\"><use xlink:href=\"#icon-signal\"></use></svg> Mobile\n",
      "                          </div>, <h3 class=\"headline\">Global Performance</h3>, <div class=\"headline\">\n",
      "<svg class=\"svg-icon\"><use xlink:href=\"#icon-wifi\"></use></svg> Fixed Broadband\n",
      "                          </div>, <h3 class=\"headline\">Global Performance</h3>, <div class=\"headline\">\n",
      "<svg class=\"svg-icon\"><use xlink:href=\"#icon-signal\"></use></svg> Mobile\n",
      "                          </div>, <h3 class=\"headline\">Global Performance</h3>, <div class=\"headline\">\n",
      "<svg class=\"svg-icon\"><use xlink:href=\"#icon-signal\"></use></svg> Mobile\n",
      "                          </div>, <h3 class=\"headline\">Global Performance</h3>, <div class=\"headline\">\n",
      "<svg class=\"svg-icon\"><use xlink:href=\"#icon-wifi\"></use></svg> Fixed Broadband\n",
      "                          </div>, <h3 class=\"headline\">Global Performance</h3>, <div class=\"headline\">\n",
      "<svg class=\"svg-icon\"><use xlink:href=\"#icon-wifi\"></use></svg> Fixed Broadband\n",
      "                          </div>, <h3 class=\"headline\">Global Performance</h3>]\n",
      "\n",
      "FixedBroadband\n",
      "\n"
     ]
    }
   ],
   "source": [
    "headline=htmlParse.find_all(attrs={'class':'headline'})\n",
    "mobile=headline[0].text.replace(\" \",\"\")\n",
    "fixed_bb= headline[1].text.replace(\" \",\"\")\n",
    "print(headline)\n",
    "print(fixed_bb)"
   ]
  },
  {
   "cell_type": "code",
   "execution_count": 7,
   "metadata": {},
   "outputs": [],
   "source": [
    "rank= htmlParse.find_all(attrs={'class':'rank'})\n",
    "country= htmlParse.find_all(attrs={'class':'country'})\n",
    "speed= htmlParse.find_all(attrs={'class':'speed'})"
   ]
  },
  {
   "cell_type": "code",
   "execution_count": null,
   "metadata": {},
   "outputs": [],
   "source": [
    "ranks=int(rank[1].text.replace(\" \",\"\"))\n",
    "contries= country[1].text.replace(\"\\n\", \"\").replace(\" \", \"\")\n",
    "speeds= speed[1].text"
   ]
  },
  {
   "cell_type": "code",
   "execution_count": 9,
   "metadata": {},
   "outputs": [],
   "source": [
    "r_list = [i.text.replace(\" \", \"\") for i in rank]\n",
    "c_list = [i.text.replace(\"  \", \"\") for i in country]\n",
    "s_list = [i.text for i in speed]"
   ]
  },
  {
   "cell_type": "code",
   "execution_count": 10,
   "metadata": {},
   "outputs": [],
   "source": [
    "# error accuring of values..\n",
    "min_length = min(len(r_list), len(s_list))\n",
    "\n",
    "if len(c_list) < min_length:\n",
    "    repetitions = min_length // len(c_list)\n",
    "    remaining = min_length % len(c_list)\n",
    "    c_list = c_list * repetitions + c_list[:remaining]\n"
   ]
  },
  {
   "cell_type": "code",
   "execution_count": 11,
   "metadata": {},
   "outputs": [],
   "source": [
    "df = pd.DataFrame({'Rank': r_list[:min_length], 'Country': c_list[:min_length], 'Speed': s_list[:min_length]})\n"
   ]
  },
  {
   "cell_type": "code",
   "execution_count": 14,
   "metadata": {},
   "outputs": [],
   "source": [
    "df.to_csv('output.csv', index=False)"
   ]
  },
  {
   "cell_type": "code",
   "execution_count": 15,
   "metadata": {},
   "outputs": [
    {
     "name": "stdout",
     "output_type": "stream",
     "text": [
      "     Rank                       Country   Speed\n",
      "0       #  \\n\\nUnited Arab Emirates\\n\\n    Mbps\n",
      "1       1                 \\n\\nQatar\\n\\n  398.40\n",
      "2       -           \\n\\nSouth Korea\\n\\n  332.94\n",
      "3       2              \\n\\nBulgaria\\n\\n  264.40\n",
      "4       -                \\n\\nKuwait\\n\\n  257.34\n",
      "...   ...                           ...     ...\n",
      "1004   38                 \\n\\nQatar\\n\\n    5.46\n",
      "1005    -           \\n\\nSouth Korea\\n\\n    5.28\n",
      "1006   39              \\n\\nBulgaria\\n\\n    4.03\n",
      "1007   +1                \\n\\nKuwait\\n\\n    2.85\n",
      "1008   40           \\n\\nMacau (SAR)\\n\\n    2.13\n",
      "\n",
      "[1009 rows x 3 columns]\n"
     ]
    }
   ],
   "source": [
    "df1 = pd.read_csv('output.csv') \n",
    "print(df1)"
   ]
  }
 ],
 "metadata": {
  "kernelspec": {
   "display_name": "EDA-Tasks",
   "language": "python",
   "name": "python3"
  },
  "language_info": {
   "codemirror_mode": {
    "name": "ipython",
    "version": 3
   },
   "file_extension": ".py",
   "mimetype": "text/x-python",
   "name": "python",
   "nbconvert_exporter": "python",
   "pygments_lexer": "ipython3",
   "version": "3.11.0"
  }
 },
 "nbformat": 4,
 "nbformat_minor": 2
}
